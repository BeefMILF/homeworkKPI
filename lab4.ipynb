{
 "cells": [
  {
   "cell_type": "code",
   "execution_count": 298,
   "metadata": {},
   "outputs": [],
   "source": [
    "import numpy as np\n",
    "import pandas as pd \n",
    "np.set_printoptions(suppress=True, precision=3)\n",
    "pd.set_option('precision', 3)"
   ]
  },
  {
   "cell_type": "code",
   "execution_count": 299,
   "metadata": {},
   "outputs": [],
   "source": [
    "def regression(X, b, Y):\n",
    "    if isinstance(X, pd.DataFrame): X = X.values \n",
    "    if isinstance(Y, pd.DataFrame) or isinstance(Y, pd.Series): Y = Y.values \n",
    "\n",
    "    for x, y in zip(X, Y):\n",
    "        print('y = ' + ' + '.join([f'{b_.round(2)}*{x_.round(2)}' for (x_, b_) in zip(x, b)]) + f' = {y.round(3)}')   "
   ]
  },
  {
   "cell_type": "markdown",
   "metadata": {},
   "source": [
    "1) Запишемо рівняння регресії:"
   ]
  },
  {
   "cell_type": "code",
   "execution_count": 300,
   "metadata": {},
   "outputs": [
    {
     "data": {
      "text/plain": [
       "'ŷ=b0 + b1x1 + b2x2 + b3x3 + b12x1x2 + b13x1x3 + b23x2x3 + b123x1x2x3'"
      ]
     },
     "execution_count": 300,
     "metadata": {},
     "output_type": "execute_result"
    }
   ],
   "source": [
    "'ŷ=b0 + b1x1 + b2x2 + b3x3 + b12x1x2 + b13x1x3 + b23x2x3 + b123x1x2x3'"
   ]
  },
  {
   "cell_type": "markdown",
   "metadata": {},
   "source": [
    "2) Матриця планування експерименту."
   ]
  },
  {
   "cell_type": "code",
   "execution_count": 301,
   "metadata": {},
   "outputs": [
    {
     "data": {
      "text/html": [
       "<div>\n",
       "<style scoped>\n",
       "    .dataframe tbody tr th:only-of-type {\n",
       "        vertical-align: middle;\n",
       "    }\n",
       "\n",
       "    .dataframe tbody tr th {\n",
       "        vertical-align: top;\n",
       "    }\n",
       "\n",
       "    .dataframe thead th {\n",
       "        text-align: right;\n",
       "    }\n",
       "</style>\n",
       "<table border=\"1\" class=\"dataframe\">\n",
       "  <thead>\n",
       "    <tr style=\"text-align: right;\">\n",
       "      <th></th>\n",
       "      <th>x0</th>\n",
       "      <th>x1</th>\n",
       "      <th>x2</th>\n",
       "      <th>x3</th>\n",
       "    </tr>\n",
       "  </thead>\n",
       "  <tbody>\n",
       "    <tr>\n",
       "      <th>0</th>\n",
       "      <td>1</td>\n",
       "      <td>-1</td>\n",
       "      <td>-1</td>\n",
       "      <td>-1</td>\n",
       "    </tr>\n",
       "    <tr>\n",
       "      <th>1</th>\n",
       "      <td>1</td>\n",
       "      <td>-1</td>\n",
       "      <td>1</td>\n",
       "      <td>1</td>\n",
       "    </tr>\n",
       "    <tr>\n",
       "      <th>2</th>\n",
       "      <td>1</td>\n",
       "      <td>1</td>\n",
       "      <td>-1</td>\n",
       "      <td>1</td>\n",
       "    </tr>\n",
       "    <tr>\n",
       "      <th>3</th>\n",
       "      <td>1</td>\n",
       "      <td>1</td>\n",
       "      <td>1</td>\n",
       "      <td>-1</td>\n",
       "    </tr>\n",
       "    <tr>\n",
       "      <th>4</th>\n",
       "      <td>1</td>\n",
       "      <td>1</td>\n",
       "      <td>1</td>\n",
       "      <td>1</td>\n",
       "    </tr>\n",
       "    <tr>\n",
       "      <th>5</th>\n",
       "      <td>1</td>\n",
       "      <td>1</td>\n",
       "      <td>-1</td>\n",
       "      <td>-1</td>\n",
       "    </tr>\n",
       "    <tr>\n",
       "      <th>6</th>\n",
       "      <td>1</td>\n",
       "      <td>-1</td>\n",
       "      <td>1</td>\n",
       "      <td>-1</td>\n",
       "    </tr>\n",
       "    <tr>\n",
       "      <th>7</th>\n",
       "      <td>1</td>\n",
       "      <td>-1</td>\n",
       "      <td>-1</td>\n",
       "      <td>1</td>\n",
       "    </tr>\n",
       "  </tbody>\n",
       "</table>\n",
       "</div>"
      ],
      "text/plain": [
       "   x0  x1  x2  x3\n",
       "0   1  -1  -1  -1\n",
       "1   1  -1   1   1\n",
       "2   1   1  -1   1\n",
       "3   1   1   1  -1\n",
       "4   1   1   1   1\n",
       "5   1   1  -1  -1\n",
       "6   1  -1   1  -1\n",
       "7   1  -1  -1   1"
      ]
     },
     "execution_count": 301,
     "metadata": {},
     "output_type": "execute_result"
    }
   ],
   "source": [
    "Xenc = np.array([\n",
    "    # first side\n",
    "    [1, -1, -1, -1],\n",
    "    [1, -1, +1, +1],\n",
    "    [1, +1, -1, +1],\n",
    "    [1, +1, +1, -1],\n",
    "    # second side\n",
    "    [1, +1, +1, +1],\n",
    "    [1, +1, -1, -1],\n",
    "    [1, -1, +1, -1],\n",
    "    [1, -1, -1, +1]\n",
    "])\n",
    "pd.DataFrame(Xenc, columns=['x0', 'x1', 'x2', 'x3'])"
   ]
  },
  {
   "cell_type": "markdown",
   "metadata": {},
   "source": [
    "3) Для розрахунку коефіцієнтів рівняння регресії для натуральних значень запишемо матрицю\n",
    "планування з відповідними натуралізованими значеннями факторів."
   ]
  },
  {
   "cell_type": "code",
   "execution_count": 302,
   "metadata": {},
   "outputs": [
    {
     "data": {
      "text/html": [
       "<div>\n",
       "<style scoped>\n",
       "    .dataframe tbody tr th:only-of-type {\n",
       "        vertical-align: middle;\n",
       "    }\n",
       "\n",
       "    .dataframe tbody tr th {\n",
       "        vertical-align: top;\n",
       "    }\n",
       "\n",
       "    .dataframe thead tr th {\n",
       "        text-align: left;\n",
       "    }\n",
       "</style>\n",
       "<table border=\"1\" class=\"dataframe\">\n",
       "  <thead>\n",
       "    <tr>\n",
       "      <th></th>\n",
       "      <th colspan=\"2\" halign=\"left\">x1</th>\n",
       "      <th colspan=\"2\" halign=\"left\">x2</th>\n",
       "      <th colspan=\"2\" halign=\"left\">x3</th>\n",
       "    </tr>\n",
       "    <tr>\n",
       "      <th></th>\n",
       "      <th>min</th>\n",
       "      <th>max</th>\n",
       "      <th>min</th>\n",
       "      <th>max</th>\n",
       "      <th>min</th>\n",
       "      <th>max</th>\n",
       "    </tr>\n",
       "  </thead>\n",
       "  <tbody>\n",
       "    <tr>\n",
       "      <th>105</th>\n",
       "      <td>15</td>\n",
       "      <td>45</td>\n",
       "      <td>-25</td>\n",
       "      <td>10</td>\n",
       "      <td>45</td>\n",
       "      <td>50</td>\n",
       "    </tr>\n",
       "  </tbody>\n",
       "</table>\n",
       "</div>"
      ],
      "text/plain": [
       "     x1      x2      x3    \n",
       "    min max min max min max\n",
       "105  15  45 -25  10  45  50"
      ]
     },
     "execution_count": 302,
     "metadata": {},
     "output_type": "execute_result"
    }
   ],
   "source": [
    "x1, x2, x3 = (15, 45), (-25, 10), (45, 50) \n",
    "\n",
    "columns = []\n",
    "for c1 in ['x1', 'x2', 'x3']: columns += [(c1, 'min'), (c1, 'max')]\n",
    "    \n",
    "df = pd.DataFrame(data=[[*x1, *x2, *x3]], columns=columns, index=['105'])\n",
    "df.columns = pd.MultiIndex.from_tuples(columns)\n",
    "df"
   ]
  },
  {
   "cell_type": "code",
   "execution_count": 303,
   "metadata": {},
   "outputs": [
    {
     "data": {
      "text/html": [
       "<div>\n",
       "<style scoped>\n",
       "    .dataframe tbody tr th:only-of-type {\n",
       "        vertical-align: middle;\n",
       "    }\n",
       "\n",
       "    .dataframe tbody tr th {\n",
       "        vertical-align: top;\n",
       "    }\n",
       "\n",
       "    .dataframe thead th {\n",
       "        text-align: right;\n",
       "    }\n",
       "</style>\n",
       "<table border=\"1\" class=\"dataframe\">\n",
       "  <thead>\n",
       "    <tr style=\"text-align: right;\">\n",
       "      <th></th>\n",
       "      <th>x1</th>\n",
       "      <th>x2</th>\n",
       "      <th>x3</th>\n",
       "      <th>y1</th>\n",
       "      <th>y2</th>\n",
       "      <th>y3</th>\n",
       "    </tr>\n",
       "  </thead>\n",
       "  <tbody>\n",
       "    <tr>\n",
       "      <th>0</th>\n",
       "      <td>15</td>\n",
       "      <td>-25</td>\n",
       "      <td>45</td>\n",
       "      <td>226</td>\n",
       "      <td>231</td>\n",
       "      <td>214</td>\n",
       "    </tr>\n",
       "    <tr>\n",
       "      <th>1</th>\n",
       "      <td>15</td>\n",
       "      <td>10</td>\n",
       "      <td>50</td>\n",
       "      <td>227</td>\n",
       "      <td>220</td>\n",
       "      <td>219</td>\n",
       "    </tr>\n",
       "    <tr>\n",
       "      <th>2</th>\n",
       "      <td>45</td>\n",
       "      <td>-25</td>\n",
       "      <td>50</td>\n",
       "      <td>227</td>\n",
       "      <td>217</td>\n",
       "      <td>219</td>\n",
       "    </tr>\n",
       "    <tr>\n",
       "      <th>3</th>\n",
       "      <td>45</td>\n",
       "      <td>10</td>\n",
       "      <td>45</td>\n",
       "      <td>216</td>\n",
       "      <td>224</td>\n",
       "      <td>224</td>\n",
       "    </tr>\n",
       "    <tr>\n",
       "      <th>4</th>\n",
       "      <td>45</td>\n",
       "      <td>10</td>\n",
       "      <td>50</td>\n",
       "      <td>229</td>\n",
       "      <td>233</td>\n",
       "      <td>227</td>\n",
       "    </tr>\n",
       "    <tr>\n",
       "      <th>5</th>\n",
       "      <td>45</td>\n",
       "      <td>-25</td>\n",
       "      <td>45</td>\n",
       "      <td>231</td>\n",
       "      <td>229</td>\n",
       "      <td>221</td>\n",
       "    </tr>\n",
       "    <tr>\n",
       "      <th>6</th>\n",
       "      <td>15</td>\n",
       "      <td>10</td>\n",
       "      <td>45</td>\n",
       "      <td>226</td>\n",
       "      <td>224</td>\n",
       "      <td>229</td>\n",
       "    </tr>\n",
       "    <tr>\n",
       "      <th>7</th>\n",
       "      <td>15</td>\n",
       "      <td>-25</td>\n",
       "      <td>50</td>\n",
       "      <td>219</td>\n",
       "      <td>212</td>\n",
       "      <td>214</td>\n",
       "    </tr>\n",
       "  </tbody>\n",
       "</table>\n",
       "</div>"
      ],
      "text/plain": [
       "   x1  x2  x3   y1   y2   y3\n",
       "0  15 -25  45  226  231  214\n",
       "1  15  10  50  227  220  219\n",
       "2  45 -25  50  227  217  219\n",
       "3  45  10  45  216  224  224\n",
       "4  45  10  50  229  233  227\n",
       "5  45 -25  45  231  229  221\n",
       "6  15  10  45  226  224  229\n",
       "7  15 -25  50  219  212  214"
      ]
     },
     "execution_count": 303,
     "metadata": {},
     "output_type": "execute_result"
    }
   ],
   "source": [
    "X = np.copy(Xenc[:, 1:])\n",
    "xmap = [x1, x2, x3]\n",
    "for i in range(X.shape[1]):\n",
    "    X[:, i] = np.where(X[:, i] == -1, *xmap[i])\n",
    "\n",
    "\n",
    "x_cp_max = sum(map(max, [x1, x2, x3])) / 3\n",
    "x_cp_min = sum(map(min, [x1, x2, x3])) / 3\n",
    "y_imax, y_imin = 200 + x_cp_max, 200 + x_cp_min\n",
    "\n",
    "m = 3\n",
    "Y = np.random.randint(y_imin, y_imax, size=(8, m))\n",
    "\n",
    "MP = pd.DataFrame(np.concatenate([X, Y], axis=1), columns=['x1', 'x2', 'x3', 'y1', 'y2', 'y3'])\n",
    "MP "
   ]
  },
  {
   "cell_type": "markdown",
   "metadata": {},
   "source": [
    "Sklearn пакет для машинного навчання, там є все починаючи з методів пониження розмірності(PCA, tSNE), стандартизацій даних і закінчуючи простого перцептрону або якогось SVM"
   ]
  },
  {
   "cell_type": "code",
   "execution_count": 304,
   "metadata": {},
   "outputs": [
    {
     "data": {
      "text/html": [
       "<div>\n",
       "<style scoped>\n",
       "    .dataframe tbody tr th:only-of-type {\n",
       "        vertical-align: middle;\n",
       "    }\n",
       "\n",
       "    .dataframe tbody tr th {\n",
       "        vertical-align: top;\n",
       "    }\n",
       "\n",
       "    .dataframe thead th {\n",
       "        text-align: right;\n",
       "    }\n",
       "</style>\n",
       "<table border=\"1\" class=\"dataframe\">\n",
       "  <thead>\n",
       "    <tr style=\"text-align: right;\">\n",
       "      <th></th>\n",
       "      <th>x0</th>\n",
       "      <th>x1</th>\n",
       "      <th>x2</th>\n",
       "      <th>x3</th>\n",
       "      <th>x1x2</th>\n",
       "      <th>x1x3</th>\n",
       "      <th>x2x3</th>\n",
       "      <th>x1x2x3</th>\n",
       "      <th>y1</th>\n",
       "      <th>y2</th>\n",
       "      <th>y3</th>\n",
       "    </tr>\n",
       "  </thead>\n",
       "  <tbody>\n",
       "    <tr>\n",
       "      <th>0</th>\n",
       "      <td>1.0</td>\n",
       "      <td>15.0</td>\n",
       "      <td>-25.0</td>\n",
       "      <td>45.0</td>\n",
       "      <td>-375.0</td>\n",
       "      <td>675.0</td>\n",
       "      <td>-1125.0</td>\n",
       "      <td>-16875.0</td>\n",
       "      <td>226</td>\n",
       "      <td>231</td>\n",
       "      <td>214</td>\n",
       "    </tr>\n",
       "    <tr>\n",
       "      <th>1</th>\n",
       "      <td>1.0</td>\n",
       "      <td>15.0</td>\n",
       "      <td>10.0</td>\n",
       "      <td>50.0</td>\n",
       "      <td>150.0</td>\n",
       "      <td>750.0</td>\n",
       "      <td>500.0</td>\n",
       "      <td>7500.0</td>\n",
       "      <td>227</td>\n",
       "      <td>220</td>\n",
       "      <td>219</td>\n",
       "    </tr>\n",
       "    <tr>\n",
       "      <th>2</th>\n",
       "      <td>1.0</td>\n",
       "      <td>45.0</td>\n",
       "      <td>-25.0</td>\n",
       "      <td>50.0</td>\n",
       "      <td>-1125.0</td>\n",
       "      <td>2250.0</td>\n",
       "      <td>-1250.0</td>\n",
       "      <td>-56250.0</td>\n",
       "      <td>227</td>\n",
       "      <td>217</td>\n",
       "      <td>219</td>\n",
       "    </tr>\n",
       "    <tr>\n",
       "      <th>3</th>\n",
       "      <td>1.0</td>\n",
       "      <td>45.0</td>\n",
       "      <td>10.0</td>\n",
       "      <td>45.0</td>\n",
       "      <td>450.0</td>\n",
       "      <td>2025.0</td>\n",
       "      <td>450.0</td>\n",
       "      <td>20250.0</td>\n",
       "      <td>216</td>\n",
       "      <td>224</td>\n",
       "      <td>224</td>\n",
       "    </tr>\n",
       "    <tr>\n",
       "      <th>4</th>\n",
       "      <td>1.0</td>\n",
       "      <td>45.0</td>\n",
       "      <td>10.0</td>\n",
       "      <td>50.0</td>\n",
       "      <td>450.0</td>\n",
       "      <td>2250.0</td>\n",
       "      <td>500.0</td>\n",
       "      <td>22500.0</td>\n",
       "      <td>229</td>\n",
       "      <td>233</td>\n",
       "      <td>227</td>\n",
       "    </tr>\n",
       "    <tr>\n",
       "      <th>5</th>\n",
       "      <td>1.0</td>\n",
       "      <td>45.0</td>\n",
       "      <td>-25.0</td>\n",
       "      <td>45.0</td>\n",
       "      <td>-1125.0</td>\n",
       "      <td>2025.0</td>\n",
       "      <td>-1125.0</td>\n",
       "      <td>-50625.0</td>\n",
       "      <td>231</td>\n",
       "      <td>229</td>\n",
       "      <td>221</td>\n",
       "    </tr>\n",
       "    <tr>\n",
       "      <th>6</th>\n",
       "      <td>1.0</td>\n",
       "      <td>15.0</td>\n",
       "      <td>10.0</td>\n",
       "      <td>45.0</td>\n",
       "      <td>150.0</td>\n",
       "      <td>675.0</td>\n",
       "      <td>450.0</td>\n",
       "      <td>6750.0</td>\n",
       "      <td>226</td>\n",
       "      <td>224</td>\n",
       "      <td>229</td>\n",
       "    </tr>\n",
       "    <tr>\n",
       "      <th>7</th>\n",
       "      <td>1.0</td>\n",
       "      <td>15.0</td>\n",
       "      <td>-25.0</td>\n",
       "      <td>50.0</td>\n",
       "      <td>-375.0</td>\n",
       "      <td>750.0</td>\n",
       "      <td>-1250.0</td>\n",
       "      <td>-18750.0</td>\n",
       "      <td>219</td>\n",
       "      <td>212</td>\n",
       "      <td>214</td>\n",
       "    </tr>\n",
       "  </tbody>\n",
       "</table>\n",
       "</div>"
      ],
      "text/plain": [
       "    x0    x1    x2    x3    x1x2    x1x3    x2x3   x1x2x3   y1   y2   y3\n",
       "0  1.0  15.0 -25.0  45.0  -375.0   675.0 -1125.0 -16875.0  226  231  214\n",
       "1  1.0  15.0  10.0  50.0   150.0   750.0   500.0   7500.0  227  220  219\n",
       "2  1.0  45.0 -25.0  50.0 -1125.0  2250.0 -1250.0 -56250.0  227  217  219\n",
       "3  1.0  45.0  10.0  45.0   450.0  2025.0   450.0  20250.0  216  224  224\n",
       "4  1.0  45.0  10.0  50.0   450.0  2250.0   500.0  22500.0  229  233  227\n",
       "5  1.0  45.0 -25.0  45.0 -1125.0  2025.0 -1125.0 -50625.0  231  229  221\n",
       "6  1.0  15.0  10.0  45.0   150.0   675.0   450.0   6750.0  226  224  229\n",
       "7  1.0  15.0 -25.0  50.0  -375.0   750.0 -1250.0 -18750.0  219  212  214"
      ]
     },
     "execution_count": 304,
     "metadata": {},
     "output_type": "execute_result"
    }
   ],
   "source": [
    "from sklearn.preprocessing import PolynomialFeatures\n",
    "poly = PolynomialFeatures(3, interaction_only=True)\n",
    "poly_x = poly.fit_transform(X)\n",
    "\n",
    "MP = pd.concat([pd.DataFrame(poly_x, columns=['x0', 'x1', 'x2', 'x3', 'x1x2', 'x1x3', 'x2x3', 'x1x2x3']), MP.iloc[:, -3:]], axis=1)\n",
    "MP "
   ]
  },
  {
   "cell_type": "code",
   "execution_count": 305,
   "metadata": {},
   "outputs": [
    {
     "data": {
      "text/html": [
       "<div>\n",
       "<style scoped>\n",
       "    .dataframe tbody tr th:only-of-type {\n",
       "        vertical-align: middle;\n",
       "    }\n",
       "\n",
       "    .dataframe tbody tr th {\n",
       "        vertical-align: top;\n",
       "    }\n",
       "\n",
       "    .dataframe thead th {\n",
       "        text-align: right;\n",
       "    }\n",
       "</style>\n",
       "<table border=\"1\" class=\"dataframe\">\n",
       "  <thead>\n",
       "    <tr style=\"text-align: right;\">\n",
       "      <th></th>\n",
       "      <th>x0</th>\n",
       "      <th>x1</th>\n",
       "      <th>x2</th>\n",
       "      <th>x3</th>\n",
       "      <th>x1x2</th>\n",
       "      <th>x1x3</th>\n",
       "      <th>x2x3</th>\n",
       "      <th>x1x2x3</th>\n",
       "      <th>y1</th>\n",
       "      <th>y2</th>\n",
       "      <th>y3</th>\n",
       "      <th>ym</th>\n",
       "    </tr>\n",
       "  </thead>\n",
       "  <tbody>\n",
       "    <tr>\n",
       "      <th>0</th>\n",
       "      <td>1.0</td>\n",
       "      <td>15.0</td>\n",
       "      <td>-25.0</td>\n",
       "      <td>45.0</td>\n",
       "      <td>-375.0</td>\n",
       "      <td>675.0</td>\n",
       "      <td>-1125.0</td>\n",
       "      <td>-16875.0</td>\n",
       "      <td>226</td>\n",
       "      <td>231</td>\n",
       "      <td>214</td>\n",
       "      <td>223.667</td>\n",
       "    </tr>\n",
       "    <tr>\n",
       "      <th>1</th>\n",
       "      <td>1.0</td>\n",
       "      <td>15.0</td>\n",
       "      <td>10.0</td>\n",
       "      <td>50.0</td>\n",
       "      <td>150.0</td>\n",
       "      <td>750.0</td>\n",
       "      <td>500.0</td>\n",
       "      <td>7500.0</td>\n",
       "      <td>227</td>\n",
       "      <td>220</td>\n",
       "      <td>219</td>\n",
       "      <td>222.000</td>\n",
       "    </tr>\n",
       "    <tr>\n",
       "      <th>2</th>\n",
       "      <td>1.0</td>\n",
       "      <td>45.0</td>\n",
       "      <td>-25.0</td>\n",
       "      <td>50.0</td>\n",
       "      <td>-1125.0</td>\n",
       "      <td>2250.0</td>\n",
       "      <td>-1250.0</td>\n",
       "      <td>-56250.0</td>\n",
       "      <td>227</td>\n",
       "      <td>217</td>\n",
       "      <td>219</td>\n",
       "      <td>221.000</td>\n",
       "    </tr>\n",
       "    <tr>\n",
       "      <th>3</th>\n",
       "      <td>1.0</td>\n",
       "      <td>45.0</td>\n",
       "      <td>10.0</td>\n",
       "      <td>45.0</td>\n",
       "      <td>450.0</td>\n",
       "      <td>2025.0</td>\n",
       "      <td>450.0</td>\n",
       "      <td>20250.0</td>\n",
       "      <td>216</td>\n",
       "      <td>224</td>\n",
       "      <td>224</td>\n",
       "      <td>221.333</td>\n",
       "    </tr>\n",
       "    <tr>\n",
       "      <th>4</th>\n",
       "      <td>1.0</td>\n",
       "      <td>45.0</td>\n",
       "      <td>10.0</td>\n",
       "      <td>50.0</td>\n",
       "      <td>450.0</td>\n",
       "      <td>2250.0</td>\n",
       "      <td>500.0</td>\n",
       "      <td>22500.0</td>\n",
       "      <td>229</td>\n",
       "      <td>233</td>\n",
       "      <td>227</td>\n",
       "      <td>229.667</td>\n",
       "    </tr>\n",
       "    <tr>\n",
       "      <th>5</th>\n",
       "      <td>1.0</td>\n",
       "      <td>45.0</td>\n",
       "      <td>-25.0</td>\n",
       "      <td>45.0</td>\n",
       "      <td>-1125.0</td>\n",
       "      <td>2025.0</td>\n",
       "      <td>-1125.0</td>\n",
       "      <td>-50625.0</td>\n",
       "      <td>231</td>\n",
       "      <td>229</td>\n",
       "      <td>221</td>\n",
       "      <td>227.000</td>\n",
       "    </tr>\n",
       "    <tr>\n",
       "      <th>6</th>\n",
       "      <td>1.0</td>\n",
       "      <td>15.0</td>\n",
       "      <td>10.0</td>\n",
       "      <td>45.0</td>\n",
       "      <td>150.0</td>\n",
       "      <td>675.0</td>\n",
       "      <td>450.0</td>\n",
       "      <td>6750.0</td>\n",
       "      <td>226</td>\n",
       "      <td>224</td>\n",
       "      <td>229</td>\n",
       "      <td>226.333</td>\n",
       "    </tr>\n",
       "    <tr>\n",
       "      <th>7</th>\n",
       "      <td>1.0</td>\n",
       "      <td>15.0</td>\n",
       "      <td>-25.0</td>\n",
       "      <td>50.0</td>\n",
       "      <td>-375.0</td>\n",
       "      <td>750.0</td>\n",
       "      <td>-1250.0</td>\n",
       "      <td>-18750.0</td>\n",
       "      <td>219</td>\n",
       "      <td>212</td>\n",
       "      <td>214</td>\n",
       "      <td>215.000</td>\n",
       "    </tr>\n",
       "  </tbody>\n",
       "</table>\n",
       "</div>"
      ],
      "text/plain": [
       "    x0    x1    x2    x3    x1x2    x1x3    x2x3   x1x2x3   y1   y2   y3  \\\n",
       "0  1.0  15.0 -25.0  45.0  -375.0   675.0 -1125.0 -16875.0  226  231  214   \n",
       "1  1.0  15.0  10.0  50.0   150.0   750.0   500.0   7500.0  227  220  219   \n",
       "2  1.0  45.0 -25.0  50.0 -1125.0  2250.0 -1250.0 -56250.0  227  217  219   \n",
       "3  1.0  45.0  10.0  45.0   450.0  2025.0   450.0  20250.0  216  224  224   \n",
       "4  1.0  45.0  10.0  50.0   450.0  2250.0   500.0  22500.0  229  233  227   \n",
       "5  1.0  45.0 -25.0  45.0 -1125.0  2025.0 -1125.0 -50625.0  231  229  221   \n",
       "6  1.0  15.0  10.0  45.0   150.0   675.0   450.0   6750.0  226  224  229   \n",
       "7  1.0  15.0 -25.0  50.0  -375.0   750.0 -1250.0 -18750.0  219  212  214   \n",
       "\n",
       "        ym  \n",
       "0  223.667  \n",
       "1  222.000  \n",
       "2  221.000  \n",
       "3  221.333  \n",
       "4  229.667  \n",
       "5  227.000  \n",
       "6  226.333  \n",
       "7  215.000  "
      ]
     },
     "execution_count": 305,
     "metadata": {},
     "output_type": "execute_result"
    }
   ],
   "source": [
    "MP['ym'] = MP.iloc[:, -3:].mean(axis=1)\n",
    "MP"
   ]
  },
  {
   "cell_type": "code",
   "execution_count": 306,
   "metadata": {},
   "outputs": [
    {
     "data": {
      "text/plain": [
       "x0            1.00\n",
       "x1           30.00\n",
       "x2           -7.50\n",
       "x3           47.50\n",
       "x1x2       -225.00\n",
       "x1x3       1425.00\n",
       "x2x3       -356.25\n",
       "x1x2x3   -10687.50\n",
       "dtype: float64"
      ]
     },
     "execution_count": 306,
     "metadata": {},
     "output_type": "execute_result"
    }
   ],
   "source": [
    "MP.iloc[:, :-4].mean(axis=0) # mx"
   ]
  },
  {
   "cell_type": "code",
   "execution_count": 307,
   "metadata": {},
   "outputs": [
    {
     "data": {
      "text/plain": [
       "223.25"
      ]
     },
     "execution_count": 307,
     "metadata": {},
     "output_type": "execute_result"
    }
   ],
   "source": [
    "MP['ym'].mean() # my"
   ]
  },
  {
   "cell_type": "code",
   "execution_count": 308,
   "metadata": {},
   "outputs": [
    {
     "data": {
      "text/plain": [
       "array([169.815,   1.716,  -2.598,   1.089,   0.043,  -0.036,   0.054,\n",
       "        -0.001])"
      ]
     },
     "execution_count": 308,
     "metadata": {},
     "output_type": "execute_result"
    }
   ],
   "source": [
    "X = MP.iloc[:, :-4].copy().values\n",
    " \n",
    "A = np.array([(X * X[:, i]).sum(axis=0) for i in range(X.shape[1])])\n",
    "y = np.array([(MP['ym'] * X[:, i]).sum() for i in range(X.shape[1])])\n",
    "b = np.linalg.solve(A.T, y)\n",
    "b"
   ]
  },
  {
   "cell_type": "code",
   "execution_count": 310,
   "metadata": {},
   "outputs": [
    {
     "name": "stdout",
     "output_type": "stream",
     "text": [
      "y = 169.82*1.0 + 1.72*15.0 + -2.6*-25.0 + 1.09*45.0 + 0.04*-375.0 + -0.04*675.0 + 0.05*-1125.0 + -0.0*-16875.0 = 223.667\n",
      "y = 169.82*1.0 + 1.72*15.0 + -2.6*10.0 + 1.09*50.0 + 0.04*150.0 + -0.04*750.0 + 0.05*500.0 + -0.0*7500.0 = 222.0\n",
      "y = 169.82*1.0 + 1.72*45.0 + -2.6*-25.0 + 1.09*50.0 + 0.04*-1125.0 + -0.04*2250.0 + 0.05*-1250.0 + -0.0*-56250.0 = 221.0\n",
      "y = 169.82*1.0 + 1.72*45.0 + -2.6*10.0 + 1.09*45.0 + 0.04*450.0 + -0.04*2025.0 + 0.05*450.0 + -0.0*20250.0 = 221.333\n",
      "y = 169.82*1.0 + 1.72*45.0 + -2.6*10.0 + 1.09*50.0 + 0.04*450.0 + -0.04*2250.0 + 0.05*500.0 + -0.0*22500.0 = 229.667\n",
      "y = 169.82*1.0 + 1.72*45.0 + -2.6*-25.0 + 1.09*45.0 + 0.04*-1125.0 + -0.04*2025.0 + 0.05*-1125.0 + -0.0*-50625.0 = 227.0\n",
      "y = 169.82*1.0 + 1.72*15.0 + -2.6*10.0 + 1.09*45.0 + 0.04*150.0 + -0.04*675.0 + 0.05*450.0 + -0.0*6750.0 = 226.333\n",
      "y = 169.82*1.0 + 1.72*15.0 + -2.6*-25.0 + 1.09*50.0 + 0.04*-375.0 + -0.04*750.0 + 0.05*-1250.0 + -0.0*-18750.0 = 215.0\n"
     ]
    }
   ],
   "source": [
    "# Ax = y -> x коэффициенты \n",
    "\n",
    "regression(MP.iloc[:, :-4], b, MP['ym'])"
   ]
  },
  {
   "cell_type": "markdown",
   "metadata": {},
   "source": [
    "**Урахуванням взаємодії для нормованих значень факторів.**\n",
    "1. Сума усіх нормованих значень стовпчика кожного фактора дорівнює нулю (симетричність)\n",
    "2. Сума попарних добутків стовпчиків факторів дорівнює нулю (ортогональність)\n",
    "3. Сума добутків трьох стовпчиків факторів також дорівнює нулю\n",
    "4. Оскільки квадрат нормованих значень ±1 завжди дорівнює 1, то сума квадратів дорівнює N"
   ]
  },
  {
   "cell_type": "code",
   "execution_count": 311,
   "metadata": {},
   "outputs": [
    {
     "data": {
      "text/html": [
       "<div>\n",
       "<style scoped>\n",
       "    .dataframe tbody tr th:only-of-type {\n",
       "        vertical-align: middle;\n",
       "    }\n",
       "\n",
       "    .dataframe tbody tr th {\n",
       "        vertical-align: top;\n",
       "    }\n",
       "\n",
       "    .dataframe thead th {\n",
       "        text-align: right;\n",
       "    }\n",
       "</style>\n",
       "<table border=\"1\" class=\"dataframe\">\n",
       "  <thead>\n",
       "    <tr style=\"text-align: right;\">\n",
       "      <th></th>\n",
       "      <th>x0</th>\n",
       "      <th>x1</th>\n",
       "      <th>x2</th>\n",
       "      <th>x3</th>\n",
       "      <th>x1x2</th>\n",
       "      <th>x1x3</th>\n",
       "      <th>x2x3</th>\n",
       "      <th>x1x2x3</th>\n",
       "    </tr>\n",
       "  </thead>\n",
       "  <tbody>\n",
       "    <tr>\n",
       "      <th>0</th>\n",
       "      <td>1.0</td>\n",
       "      <td>-1.0</td>\n",
       "      <td>-1.0</td>\n",
       "      <td>-1.0</td>\n",
       "      <td>1.0</td>\n",
       "      <td>1.0</td>\n",
       "      <td>1.0</td>\n",
       "      <td>-1.0</td>\n",
       "    </tr>\n",
       "    <tr>\n",
       "      <th>1</th>\n",
       "      <td>1.0</td>\n",
       "      <td>-1.0</td>\n",
       "      <td>1.0</td>\n",
       "      <td>1.0</td>\n",
       "      <td>-1.0</td>\n",
       "      <td>-1.0</td>\n",
       "      <td>1.0</td>\n",
       "      <td>-1.0</td>\n",
       "    </tr>\n",
       "    <tr>\n",
       "      <th>2</th>\n",
       "      <td>1.0</td>\n",
       "      <td>1.0</td>\n",
       "      <td>-1.0</td>\n",
       "      <td>1.0</td>\n",
       "      <td>-1.0</td>\n",
       "      <td>1.0</td>\n",
       "      <td>-1.0</td>\n",
       "      <td>-1.0</td>\n",
       "    </tr>\n",
       "    <tr>\n",
       "      <th>3</th>\n",
       "      <td>1.0</td>\n",
       "      <td>1.0</td>\n",
       "      <td>1.0</td>\n",
       "      <td>-1.0</td>\n",
       "      <td>1.0</td>\n",
       "      <td>-1.0</td>\n",
       "      <td>-1.0</td>\n",
       "      <td>-1.0</td>\n",
       "    </tr>\n",
       "    <tr>\n",
       "      <th>4</th>\n",
       "      <td>1.0</td>\n",
       "      <td>1.0</td>\n",
       "      <td>1.0</td>\n",
       "      <td>1.0</td>\n",
       "      <td>1.0</td>\n",
       "      <td>1.0</td>\n",
       "      <td>1.0</td>\n",
       "      <td>1.0</td>\n",
       "    </tr>\n",
       "    <tr>\n",
       "      <th>5</th>\n",
       "      <td>1.0</td>\n",
       "      <td>1.0</td>\n",
       "      <td>-1.0</td>\n",
       "      <td>-1.0</td>\n",
       "      <td>-1.0</td>\n",
       "      <td>-1.0</td>\n",
       "      <td>1.0</td>\n",
       "      <td>1.0</td>\n",
       "    </tr>\n",
       "    <tr>\n",
       "      <th>6</th>\n",
       "      <td>1.0</td>\n",
       "      <td>-1.0</td>\n",
       "      <td>1.0</td>\n",
       "      <td>-1.0</td>\n",
       "      <td>-1.0</td>\n",
       "      <td>1.0</td>\n",
       "      <td>-1.0</td>\n",
       "      <td>1.0</td>\n",
       "    </tr>\n",
       "    <tr>\n",
       "      <th>7</th>\n",
       "      <td>1.0</td>\n",
       "      <td>-1.0</td>\n",
       "      <td>-1.0</td>\n",
       "      <td>1.0</td>\n",
       "      <td>1.0</td>\n",
       "      <td>-1.0</td>\n",
       "      <td>-1.0</td>\n",
       "      <td>1.0</td>\n",
       "    </tr>\n",
       "  </tbody>\n",
       "</table>\n",
       "</div>"
      ],
      "text/plain": [
       "    x0   x1   x2   x3  x1x2  x1x3  x2x3  x1x2x3\n",
       "0  1.0 -1.0 -1.0 -1.0   1.0   1.0   1.0    -1.0\n",
       "1  1.0 -1.0  1.0  1.0  -1.0  -1.0   1.0    -1.0\n",
       "2  1.0  1.0 -1.0  1.0  -1.0   1.0  -1.0    -1.0\n",
       "3  1.0  1.0  1.0 -1.0   1.0  -1.0  -1.0    -1.0\n",
       "4  1.0  1.0  1.0  1.0   1.0   1.0   1.0     1.0\n",
       "5  1.0  1.0 -1.0 -1.0  -1.0  -1.0   1.0     1.0\n",
       "6  1.0 -1.0  1.0 -1.0  -1.0   1.0  -1.0     1.0\n",
       "7  1.0 -1.0 -1.0  1.0   1.0  -1.0  -1.0     1.0"
      ]
     },
     "execution_count": 311,
     "metadata": {},
     "output_type": "execute_result"
    }
   ],
   "source": [
    "from sklearn.preprocessing import PolynomialFeatures\n",
    "poly = PolynomialFeatures(3, interaction_only=True)\n",
    "poly_x = poly.fit_transform(Xenc[:, 1:])\n",
    "\n",
    "MPenc = pd.DataFrame(poly_x, columns=['x0', 'x1', 'x2', 'x3', 'x1x2', 'x1x3', 'x2x3', 'x1x2x3'])\n",
    "MPenc"
   ]
  },
  {
   "cell_type": "code",
   "execution_count": 312,
   "metadata": {},
   "outputs": [],
   "source": [
    "# MPenc.sum(axis=0)"
   ]
  },
  {
   "cell_type": "code",
   "execution_count": 313,
   "metadata": {},
   "outputs": [],
   "source": [
    "# poly = PolynomialFeatures(3, interaction_only=True, include_bias=False)\n",
    "# poly.fit_transform(MPenc.iloc[:, 1:]).sum(axis=0)"
   ]
  },
  {
   "cell_type": "code",
   "execution_count": 314,
   "metadata": {},
   "outputs": [
    {
     "data": {
      "text/plain": [
       "array([[8., 0., 0., 0., 0., 0., 0., 0.],\n",
       "       [0., 8., 0., 0., 0., 0., 0., 0.],\n",
       "       [0., 0., 8., 0., 0., 0., 0., 0.],\n",
       "       [0., 0., 0., 8., 0., 0., 0., 0.],\n",
       "       [0., 0., 0., 0., 8., 0., 0., 0.],\n",
       "       [0., 0., 0., 0., 0., 8., 0., 0.],\n",
       "       [0., 0., 0., 0., 0., 0., 8., 0.],\n",
       "       [0., 0., 0., 0., 0., 0., 0., 8.]])"
      ]
     },
     "execution_count": 314,
     "metadata": {},
     "output_type": "execute_result"
    }
   ],
   "source": [
    "N = 8\n",
    "A = np.eye(N, N) * N\n",
    "A"
   ]
  },
  {
   "cell_type": "code",
   "execution_count": 315,
   "metadata": {},
   "outputs": [
    {
     "data": {
      "text/plain": [
       "array([223.25 ,   1.5  ,   1.583,  -1.333,  -0.833,   1.917,   2.333,\n",
       "         1.25 ])"
      ]
     },
     "execution_count": 315,
     "metadata": {},
     "output_type": "execute_result"
    }
   ],
   "source": [
    "X = MPenc.copy().values\n",
    "y = np.array([(MP['ym'] * X[:, i]).sum() for i in range(X.shape[1])])\n",
    "\n",
    "# Ax = y -> x коэффициенты \n",
    "b = np.linalg.solve(A, y)\n",
    "b"
   ]
  },
  {
   "cell_type": "code",
   "execution_count": 316,
   "metadata": {},
   "outputs": [
    {
     "name": "stdout",
     "output_type": "stream",
     "text": [
      "y = 223.25*1.0 + 1.5*-1.0 + 1.58*-1.0 + -1.33*-1.0 + -0.83*1.0 + 1.92*1.0 + 2.33*1.0 + 1.25*-1.0 = 223.667\n",
      "y = 223.25*1.0 + 1.5*-1.0 + 1.58*1.0 + -1.33*1.0 + -0.83*-1.0 + 1.92*-1.0 + 2.33*1.0 + 1.25*-1.0 = 222.0\n",
      "y = 223.25*1.0 + 1.5*1.0 + 1.58*-1.0 + -1.33*1.0 + -0.83*-1.0 + 1.92*1.0 + 2.33*-1.0 + 1.25*-1.0 = 221.0\n",
      "y = 223.25*1.0 + 1.5*1.0 + 1.58*1.0 + -1.33*-1.0 + -0.83*1.0 + 1.92*-1.0 + 2.33*-1.0 + 1.25*-1.0 = 221.333\n",
      "y = 223.25*1.0 + 1.5*1.0 + 1.58*1.0 + -1.33*1.0 + -0.83*1.0 + 1.92*1.0 + 2.33*1.0 + 1.25*1.0 = 229.667\n",
      "y = 223.25*1.0 + 1.5*1.0 + 1.58*-1.0 + -1.33*-1.0 + -0.83*-1.0 + 1.92*-1.0 + 2.33*1.0 + 1.25*1.0 = 227.0\n",
      "y = 223.25*1.0 + 1.5*-1.0 + 1.58*1.0 + -1.33*-1.0 + -0.83*-1.0 + 1.92*1.0 + 2.33*-1.0 + 1.25*1.0 = 226.333\n",
      "y = 223.25*1.0 + 1.5*-1.0 + 1.58*-1.0 + -1.33*1.0 + -0.83*1.0 + 1.92*-1.0 + 2.33*-1.0 + 1.25*1.0 = 215.0\n"
     ]
    }
   ],
   "source": [
    "regression(MPenc, b, MP['ym'])"
   ]
  },
  {
   "cell_type": "markdown",
   "metadata": {},
   "source": [
    "4. Провести 3 статистичні перевірки – за критеріями Кохрена, Стьюдента, Фішера."
   ]
  },
  {
   "cell_type": "markdown",
   "metadata": {},
   "source": [
    "**Критерій Кохрена**"
   ]
  },
  {
   "cell_type": "code",
   "execution_count": 321,
   "metadata": {},
   "outputs": [
    {
     "name": "stdout",
     "output_type": "stream",
     "text": [
      "df          2\n",
      "pvalue      0.36787944117144245\n",
      "statistic   2.0\n"
     ]
    }
   ],
   "source": [
    "from statsmodels.stats.contingency_tables import cochrans_q\n",
    "print(cochrans_q(MP[['y1', 'y2', 'y3']]))"
   ]
  },
  {
   "cell_type": "code",
   "execution_count": 365,
   "metadata": {},
   "outputs": [
    {
     "name": "stdout",
     "output_type": "stream",
     "text": [
      "G < Gt, 0.379 < 0.516 - Дисперсія однорідна.\n"
     ]
    }
   ],
   "source": [
    "def cochran_q(X, p=0.05, return_Gt=False):\n",
    "    \"\"\" Перевірка однорідності дисперсії за критерієм Кохрена \"\"\"\n",
    "    uniform = True\n",
    "    m = X.shape[1] - 1 # f1\n",
    "    N = X.shape[0] # f2\n",
    "    \n",
    "    Xvar = ((X - X.mean(axis=1, keepdims=True)) ** 2).sum(axis=1) / m # Xvar = X.var(axis=1)\n",
    "    Gt = 0.5157 # таблица\n",
    "    G = Xvar.max() / Xvar.sum()\n",
    "    \n",
    "    if G > Gt: uniform = False\n",
    "    return (G, Gt, uniform) if return_Gt else (G, uniform)\n",
    "\n",
    "    \n",
    "G, Gt, uniform = cochran_q(MP[['y1', 'y2', 'y3']].values, return_Gt=True) # m = 2, N = 8 \n",
    "if uniform: \n",
    "    print(f'G < Gt, {G:.3f} < {Gt:.3f} - Дисперсія однорідна.')\n",
    "else: \n",
    "    print(f'G > Gt, {G:.3f} > {Gt:.3f} - Дисперсія неоднорідна.')"
   ]
  },
  {
   "cell_type": "markdown",
   "metadata": {},
   "source": [
    "**Критерій Стьюдента:**\n",
    "* Перший спосіб це оцінка p_value яка визначається як scipy.stats.t.sf(t, df), t - список t_значень, а df - степені свободи \n",
    "* Другий спосіб як в методичці, результат виходить той самий "
   ]
  },
  {
   "cell_type": "code",
   "execution_count": 401,
   "metadata": {},
   "outputs": [
    {
     "name": "stdout",
     "output_type": "stream",
     "text": [
      "t1 = 1.794 t2 = 1.894 t3 = 1.595 t4 = 0.997 t7 = 1.495 < Tтабл.\n",
      "b1 b2 b3 b4 b7 коефіцієнти рівняння регресії приймаємо незначними при рівні значимості 0.05\n",
      "\n"
     ]
    }
   ],
   "source": [
    "from scipy.stats import t as T\n",
    "\n",
    "def t_test(X, Y, p=0.05):\n",
    "    \"\"\" Значимість коефіцієнтів регресії згідно критерію Стьюдента\n",
    "        :return: nd.array - індекси значимих коефіцієнтів рівняння регресії\n",
    "    \"\"\"\n",
    "    N, m = Y.shape\n",
    "    df = (m - 1) * N # f3 = f1 * f2 \n",
    "\n",
    "    var = Y.var(axis=1).mean()\n",
    "    S2 = var / (m * N)    \n",
    "    betas = (X.T * Y.mean(axis=1)).mean(axis=1)\n",
    "    t = abs(betas) / np.sqrt(S2)\n",
    "    \n",
    "    ind = np.argwhere(T.sf(t, df) * 2 > p).ravel()\n",
    "    return t, betas, ind\n",
    "\n",
    "               \n",
    "t, betas, ind = t_test(MPenc.values, MP[['y1', 'y2', 'y3']].values)\n",
    "\n",
    "print(f'{\" \".join([f\"t{i} = {t[i]:.3f}\" for i in ind])} < Tтабл.')\n",
    "print(f'{\" \".join([f\"b{i}\" for i in ind])} коефіцієнти рівняння регресії приймаємо незначними при рівні значимості 0.05\\n') "
   ]
  },
  {
   "cell_type": "code",
   "execution_count": 435,
   "metadata": {},
   "outputs": [
    {
     "name": "stdout",
     "output_type": "stream",
     "text": [
      "t1 = 1.794 t2 = 1.894 t3 = 1.595 t4 = 0.997 t7 = 1.495 < Tтабл. = 2.12\n",
      "b1 b2 b3 b4 b7 коефіцієнти рівняння регресії приймаємо незначними при рівні значимості 0.05\n",
      "\n"
     ]
    }
   ],
   "source": [
    "def t_test(X, Y, p=0.05):\n",
    "    \"\"\" \n",
    "    Значимість коефіцієнтів регресії згідно критерію Стьюдента\n",
    "    :return: nd.array - індекси значимих коефіцієнтів рівняння регресії\n",
    "    \"\"\"\n",
    "    N, m = Y.shape\n",
    "    df = (m - 1) * N # f3 = f1 * f2 \n",
    "    tt = 2.12  # таблиця\n",
    "\n",
    "\n",
    "    var = Y.var(axis=1).mean()\n",
    "    S2 = var / (m * N)    \n",
    "    betas = (X.T * Y.mean(axis=1)).mean(axis=1)\n",
    "    t = abs(betas) / np.sqrt(S2)\n",
    "    \n",
    "    ind_out = np.argwhere(t < tt).ravel()\n",
    "    ind_in = np.argwhere(t > tt).ravel()\n",
    "    return t, betas, ind_out, ind_in, tt, m, N\n",
    "    \n",
    "t, betas, ind_out, ind_in, tt, m, N = t_test(MPenc.values, MP[['y1', 'y2', 'y3']].values)\n",
    "\n",
    "print(f'{\" \".join([f\"t{i} = {t[i]:.3f}\" for i in ind_out])} < Tтабл. = {tt}')\n",
    "print(f'{\" \".join([f\"b{i}\" for i in ind_out])} коефіцієнти рівняння регресії приймаємо незначними при рівні значимості 0.05\\n')"
   ]
  },
  {
   "cell_type": "code",
   "execution_count": 436,
   "metadata": {},
   "outputs": [
    {
     "data": {
      "text/html": [
       "<div>\n",
       "<style scoped>\n",
       "    .dataframe tbody tr th:only-of-type {\n",
       "        vertical-align: middle;\n",
       "    }\n",
       "\n",
       "    .dataframe tbody tr th {\n",
       "        vertical-align: top;\n",
       "    }\n",
       "\n",
       "    .dataframe thead th {\n",
       "        text-align: right;\n",
       "    }\n",
       "</style>\n",
       "<table border=\"1\" class=\"dataframe\">\n",
       "  <thead>\n",
       "    <tr style=\"text-align: right;\">\n",
       "      <th></th>\n",
       "      <th>x0</th>\n",
       "      <th>x1x3</th>\n",
       "      <th>x2x3</th>\n",
       "    </tr>\n",
       "  </thead>\n",
       "  <tbody>\n",
       "    <tr>\n",
       "      <th>0</th>\n",
       "      <td>1.0</td>\n",
       "      <td>1.0</td>\n",
       "      <td>1.0</td>\n",
       "    </tr>\n",
       "    <tr>\n",
       "      <th>1</th>\n",
       "      <td>1.0</td>\n",
       "      <td>-1.0</td>\n",
       "      <td>1.0</td>\n",
       "    </tr>\n",
       "    <tr>\n",
       "      <th>2</th>\n",
       "      <td>1.0</td>\n",
       "      <td>1.0</td>\n",
       "      <td>-1.0</td>\n",
       "    </tr>\n",
       "    <tr>\n",
       "      <th>3</th>\n",
       "      <td>1.0</td>\n",
       "      <td>-1.0</td>\n",
       "      <td>-1.0</td>\n",
       "    </tr>\n",
       "    <tr>\n",
       "      <th>4</th>\n",
       "      <td>1.0</td>\n",
       "      <td>1.0</td>\n",
       "      <td>1.0</td>\n",
       "    </tr>\n",
       "    <tr>\n",
       "      <th>5</th>\n",
       "      <td>1.0</td>\n",
       "      <td>-1.0</td>\n",
       "      <td>1.0</td>\n",
       "    </tr>\n",
       "    <tr>\n",
       "      <th>6</th>\n",
       "      <td>1.0</td>\n",
       "      <td>1.0</td>\n",
       "      <td>-1.0</td>\n",
       "    </tr>\n",
       "    <tr>\n",
       "      <th>7</th>\n",
       "      <td>1.0</td>\n",
       "      <td>-1.0</td>\n",
       "      <td>-1.0</td>\n",
       "    </tr>\n",
       "  </tbody>\n",
       "</table>\n",
       "</div>"
      ],
      "text/plain": [
       "    x0  x1x3  x2x3\n",
       "0  1.0   1.0   1.0\n",
       "1  1.0  -1.0   1.0\n",
       "2  1.0   1.0  -1.0\n",
       "3  1.0  -1.0  -1.0\n",
       "4  1.0   1.0   1.0\n",
       "5  1.0  -1.0   1.0\n",
       "6  1.0   1.0  -1.0\n",
       "7  1.0  -1.0  -1.0"
      ]
     },
     "execution_count": 436,
     "metadata": {},
     "output_type": "execute_result"
    }
   ],
   "source": [
    "MPenc.iloc[:, ind_in] # значимі "
   ]
  },
  {
   "cell_type": "code",
   "execution_count": 437,
   "metadata": {},
   "outputs": [
    {
     "name": "stdout",
     "output_type": "stream",
     "text": [
      "y = 223.25*1.0 + 1.92*1.0 + 2.33*1.0 = 227.5\n",
      "y = 223.25*1.0 + 1.92*-1.0 + 2.33*1.0 = 223.667\n",
      "y = 223.25*1.0 + 1.92*1.0 + 2.33*-1.0 = 222.833\n",
      "y = 223.25*1.0 + 1.92*-1.0 + 2.33*-1.0 = 219.0\n",
      "y = 223.25*1.0 + 1.92*1.0 + 2.33*1.0 = 227.5\n",
      "y = 223.25*1.0 + 1.92*-1.0 + 2.33*1.0 = 223.667\n",
      "y = 223.25*1.0 + 1.92*1.0 + 2.33*-1.0 = 222.833\n",
      "y = 223.25*1.0 + 1.92*-1.0 + 2.33*-1.0 = 219.0\n"
     ]
    }
   ],
   "source": [
    "regression(MPenc.iloc[:, ind_in], b[ind_in], MPenc.iloc[:, ind_in] @ b[ind_in])"
   ]
  },
  {
   "cell_type": "markdown",
   "metadata": {},
   "source": [
    "**Критерій Фішера**"
   ]
  },
  {
   "cell_type": "code",
   "execution_count": 470,
   "metadata": {},
   "outputs": [
    {
     "name": "stdout",
     "output_type": "stream",
     "text": [
      "0.157 True\n",
      "Fp < Ft, 2.515 < 2.900\n",
      "рівняння регресії адекватнe оригіналу при рівні значимості 0.05\n"
     ]
    }
   ],
   "source": [
    "from scipy.stats import f as F\n",
    "\n",
    "def F_test(y1, y2, d, m, N):\n",
    "    \"\"\" \n",
    "    Адекватність моделі за F-критерієм Фішера, який дорівнює відношенню дисперсії\n",
    "    адекватності до дисперсії відтворюваності:\n",
    "    \"\"\"\n",
    "    \n",
    "    S2ad = (m / (N - d)) * ((y2 - y1.mean(axis=1)) ** 2).sum()\n",
    "    S2 = Y.var(axis=1).mean()\n",
    "    Fval = S2ad / S2 \n",
    "    Ft = 2.9 # таблиця \n",
    "    \n",
    "    p = F.sf(Fval, (m - 1) * N, N - d)\n",
    "    print(p.round(3), p > 0.05)\n",
    "\n",
    "    adequate = Fval < Ft\n",
    "    return Fval, Ft, adequate\n",
    "\n",
    "    \n",
    "d = X.shape[1] - len(ind) # кількість значимих коефіцієнтів \n",
    "Fval, Ft, adequate = F_test(MP[['y1', 'y2', 'y3']].values, (MPenc.iloc[:, ind_in] @ b[ind_in]).values, d, m, N)\n",
    "\n",
    "message = lambda x1, x2: f'Fp {x1} Ft, {Fval:.3f} {x1} {Ft:.3f}\\nрівняння регресії {x2}адекватнe оригіналу при рівні значимості 0.05'\n",
    "if not adequate:\n",
    "    print(message('>', 'не'))\n",
    "else:\n",
    "    print(message('<', ''))"
   ]
  },
  {
   "cell_type": "code",
   "execution_count": null,
   "metadata": {},
   "outputs": [],
   "source": []
  }
 ],
 "metadata": {
  "kernelspec": {
   "display_name": "Python 3",
   "language": "python",
   "name": "python3"
  },
  "language_info": {
   "codemirror_mode": {
    "name": "ipython",
    "version": 3
   },
   "file_extension": ".py",
   "mimetype": "text/x-python",
   "name": "python",
   "nbconvert_exporter": "python",
   "pygments_lexer": "ipython3",
   "version": "3.7.3"
  }
 },
 "nbformat": 4,
 "nbformat_minor": 4
}
